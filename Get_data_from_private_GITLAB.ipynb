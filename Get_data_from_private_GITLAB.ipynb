{
  "nbformat": 4,
  "nbformat_minor": 0,
  "metadata": {
    "colab": {
      "provenance": []
    },
    "kernelspec": {
      "name": "python3",
      "display_name": "Python 3"
    },
    "language_info": {
      "name": "python"
    }
  },
  "cells": [
    {
      "cell_type": "code",
      "execution_count": 1,
      "metadata": {
        "id": "_7x8-otC3j9I",
        "colab": {
          "base_uri": "https://localhost:8080/"
        },
        "outputId": "607cc5d3-6049-4470-f7b3-814d7651e038"
      },
      "outputs": [
        {
          "output_type": "stream",
          "name": "stdout",
          "text": [
            "Collecting XlsxWriter\n",
            "  Downloading XlsxWriter-3.1.2-py3-none-any.whl (153 kB)\n",
            "\u001b[?25l     \u001b[90m━━━━━━━━━━━━━━━━━━━━━━━━━━━━━━━━━━━━━━━━\u001b[0m \u001b[32m0.0/153.0 kB\u001b[0m \u001b[31m?\u001b[0m eta \u001b[36m-:--:--\u001b[0m\r\u001b[2K     \u001b[91m━━━━━━━━━━━━━━━━━━━━━━━━━━━━\u001b[0m\u001b[91m╸\u001b[0m\u001b[90m━━━━━━━━━━\u001b[0m \u001b[32m112.6/153.0 kB\u001b[0m \u001b[31m3.3 MB/s\u001b[0m eta \u001b[36m0:00:01\u001b[0m\r\u001b[2K     \u001b[90m━━━━━━━━━━━━━━━━━━━━━━━━━━━━━━━━━━━━━━━\u001b[0m \u001b[32m153.0/153.0 kB\u001b[0m \u001b[31m3.3 MB/s\u001b[0m eta \u001b[36m0:00:00\u001b[0m\n",
            "\u001b[?25hInstalling collected packages: XlsxWriter\n",
            "Successfully installed XlsxWriter-3.1.2\n"
          ]
        }
      ],
      "source": [
        "pip install XlsxWriter"
      ]
    },
    {
      "cell_type": "code",
      "source": [
        "import requests\n",
        "import xlsxwriter\n",
        "import pandas as pd\n",
        "import warnings"
      ],
      "metadata": {
        "id": "P_9NjTWl9T8w"
      },
      "execution_count": 11,
      "outputs": []
    },
    {
      "cell_type": "code",
      "source": [
        "# Personal Information\n",
        "token = ''\n",
        "owner = ''\n",
        "repo_name = ''"
      ],
      "metadata": {
        "id": "mO-sS6Sj3lZj"
      },
      "execution_count": 12,
      "outputs": []
    },
    {
      "cell_type": "code",
      "source": [
        "# Authorization\n",
        "headers = {\n",
        "    'Authorization': f'token {token}'\n",
        "}\n",
        "\n",
        "\n",
        "# Commits!\n",
        "# GET request to GitLab API to get commit history\n",
        "commits_url = f'https://api.gitlab.com/repos/{owner}/{repo_name}/commits'\n",
        "\n",
        "response = requests.get(commits_url, headers=headers)\n",
        "\n",
        "# Checking the status of a response\n",
        "if response.status_code == 200:\n",
        "    # Get JSON-data\n",
        "    commits_data = response.json()\n",
        "\n",
        "    commits_df = pd.DataFrame()\n",
        "\n",
        "    for commit in commits_data:\n",
        "        commit_sha = commit['sha']\n",
        "        commit_message = commit['commit']['message']\n",
        "        commit_author = commit['commit']['author']['name']\n",
        "        commit_date = commit['commit']['author']['date']\n",
        "        commit_comment_count = commit['commit']['comment_count']\n",
        "        commit_committer_login = commit['committer']['login']\n",
        "\n",
        "        commits_df = commits_df.append({'commit_sha':commit_sha,\n",
        "                                        'commit_message':commit_message,\n",
        "                                        'commit_author':commit_author,\n",
        "                                        'commit_date':commit_date,\n",
        "                                        'commit_comment_count':commit_comment_count,\n",
        "                                        'commit_committer_login':commit_committer_login\n",
        "                                      }, ignore_index=True)\n",
        "\n",
        "# Change data type\n",
        "commits_df['commit_date'] = pd.to_datetime(commits_df['commit_date']).dt.date\n",
        "\n",
        "# Count of actions performed by each user by all the time\n",
        "if len(commits_df) != 0:\n",
        "  df_commits_count = commits_df.groupby('commit_author').agg({'commit_date':'count'}).rename(columns={'commit_date':'commit_count'}).reset_index().sort_values('commit_count', ascending=False)\n",
        "\n",
        "# Count of actions performed by each user per date\n",
        "if len(commits_df) != 0:\n",
        "  df_commits_all_data_count = commits_df.groupby(['commit_author', 'commit_date']).agg({'commit_date':'count'}).rename(columns={'commit_date':'commit_count'}).reset_index().sort_values('commit_date')\n",
        "\n",
        "# Mean time per user\n",
        "result_data_commits = []\n",
        "\n",
        "# Unique authors\n",
        "authors = commits_df['commit_author'].unique()\n",
        "\n",
        "for author in authors:\n",
        "    author_data = commits_df[commits_df['commit_author'] == author]\n",
        "    author_data = author_data.sort_values('commit_date')\n",
        "    author_data['delta'] = author_data['commit_date'].diff().fillna(pd.Timedelta(seconds=0))\n",
        "    average_delta = author_data['delta'].mean()\n",
        "    result_data_commits.append(pd.Series({'commit_author': author, 'average_delta': average_delta}))\n",
        "\n",
        "result_df_commits = pd.concat(result_data_commits, axis=1).T\n",
        "result_df_commits = result_df_commits.reset_index(drop=True)\n",
        "\n",
        "result_df_commits['delta_seconds'] = result_df_commits['average_delta'].dt.total_seconds()\n",
        "mean_delta_per_user = result_df_commits[result_df_commits['delta_seconds'] > 0][['commit_author', 'average_delta']]\n",
        "mean_commit_delta_per_user = mean_delta_per_user.rename(columns={'average_delta':'average_delta_days'}).sort_values('average_delta_days', ascending=False)\n",
        "\n",
        "\n",
        "\n",
        "# Pull Requests!\n",
        "# GET request to GitLab API to get pull request history\n",
        "pulls_url = f'https://api.gitlab.com/repos/{owner}/{repo_name}/events'\n",
        "\n",
        "response = requests.get(pulls_url, headers=headers)\n",
        "\n",
        "# Checking the status of a response\n",
        "if response.status_code == 200:\n",
        "    pulls_data = response.json()\n",
        "\n",
        "    pulls_df = pd.DataFrame()\n",
        "\n",
        "    for pull in pulls_data:\n",
        "        pull_id = pull['id']\n",
        "        pull_type = pull['type']\n",
        "        pull_actor = pull['actor']['login']\n",
        "        pull_created_at = pull['created_at']\n",
        "\n",
        "\n",
        "        pulls_df = pulls_df.append({'id':pull_id,\n",
        "                                    'pull_type':pull_type,\n",
        "                                    'pull_actor':pull_actor,\n",
        "                                    'pull_created_at':pull_created_at\n",
        "                                      }, ignore_index=True)\n",
        "\n",
        "# Change data type\n",
        "pulls_df['pull_created_at'] = pd.to_datetime(pulls_df['pull_created_at']).dt.date\n",
        "\n",
        "\n",
        "# Count of actions performed by each user by all the time\n",
        "if len(pulls_df) != 0:\n",
        "  df_pulls_count = pulls_df.groupby('pull_actor').agg({'pull_created_at':'count'}).rename(columns={'pull_created_at':'pulls_count'}).reset_index().sort_values('pulls_count', ascending=False)\n",
        "\n",
        "# Count of actions performed by each user per date\n",
        "if len(pulls_df) != 0:\n",
        "  df_pulls_all_data_count = pulls_df.groupby(['pull_actor', 'pull_created_at']).agg({'pull_created_at':'count'}).rename(columns={'pull_created_at':'pulls_count'}).reset_index().sort_values('pull_created_at')\n",
        "\n",
        "\n",
        "# Mean time per user\n",
        "if len(pulls_df['pull_actor'].unique()) != 0:\n",
        "\n",
        "  result_data_pulls = []\n",
        "\n",
        "  # Unique authors\n",
        "  authors = pulls_df['pull_actor'].unique()\n",
        "\n",
        "  for author in authors:\n",
        "      author_data = pulls_df[pulls_df['pull_actor'] == author]\n",
        "      author_data = author_data.sort_values('pull_created_at')\n",
        "      author_data['delta'] = author_data['pull_created_at'].diff().fillna(pd.Timedelta(seconds=0))\n",
        "      average_delta = author_data['delta'].mean()\n",
        "      result_data_pulls.append(pd.Series({'pull_actor': author, 'average_delta': average_delta}))\n",
        "\n",
        "  result_df_pulls = pd.concat(result_data_pulls, axis=1).T\n",
        "  result_df_pulls = result_df_pulls.reset_index(drop=True)\n",
        "\n",
        "  result_df_pulls['delta_seconds'] = result_df_pulls['average_delta'].dt.total_seconds()\n",
        "  mean_delta_per_user = result_df_pulls[result_df_pulls['delta_seconds'] > 0][['pull_actor', 'average_delta']]\n",
        "  mean_pull_delta_per_user = mean_delta_per_user.rename(columns={'average_delta':'average_delta_days'}).sort_values('average_delta_days', ascending=False)\n",
        "\n",
        "\n",
        "# Events per users (without commits!)\n",
        "all_events_df_gr = pulls_df.groupby(['pull_type', 'pull_actor']).agg({'id':'count'}).reset_index().sort_values(['pull_actor', 'pull_type']).rename(columns={'id':'count_values'})\n",
        "\n",
        "# Pull Request only\n",
        "pull_request_df = pulls_df[pulls_df['pull_type'] =='PullRequestEvent']\n",
        "pull_request_df = pull_request_df.sort_values('pull_created_at')\n",
        "\n",
        "warnings.filterwarnings('ignore')"
      ],
      "metadata": {
        "id": "RLbg22iK3mS_"
      },
      "execution_count": 13,
      "outputs": []
    },
    {
      "cell_type": "code",
      "source": [
        "# Writing to Excel\n",
        "writer = pd.ExcelWriter('Commit_Pull_Data.xlsx', engine='xlsxwriter')\n",
        "\n",
        "commits_df.to_excel(writer, sheet_name='All commit data', index = False)\n",
        "df_commits_count.to_excel(writer, sheet_name='Count commits per user', index = False)\n",
        "df_commits_all_data_count.to_excel(writer, sheet_name='Count commits per user by date', index = False)\n",
        "mean_commit_delta_per_user.to_excel(writer, sheet_name='Commits mean delta time', index = False)\n",
        "\n",
        "pulls_df.to_excel(writer, sheet_name='All pulls data', index = False)\n",
        "df_pulls_count.to_excel(writer, sheet_name='Count pulls per user', index = False)\n",
        "df_pulls_all_data_count.to_excel(writer, sheet_name='Count pulls per user by date', index = False)\n",
        "mean_pull_delta_per_user.to_excel(writer, sheet_name='Pulls mean delta time', index = False)\n",
        "\n",
        "all_events_df_gr.to_excel(writer, sheet_name='All events per user', index = False)\n",
        "pull_request_df.to_excel(writer, sheet_name='Pull only', index = False)\n",
        "\n",
        "writer.close()"
      ],
      "metadata": {
        "id": "T1XRd1gdYSwP"
      },
      "execution_count": 14,
      "outputs": []
    },
    {
      "cell_type": "code",
      "source": [],
      "metadata": {
        "id": "jMFf9H8woQXE"
      },
      "execution_count": null,
      "outputs": []
    }
  ]
}